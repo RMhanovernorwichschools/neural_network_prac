{
 "cells": [
  {
   "cell_type": "markdown",
   "metadata": {},
   "source": [
    "Testing out basic concepts here, figuring out how it all works"
   ]
  },
  {
   "cell_type": "code",
   "execution_count": 92,
   "metadata": {},
   "outputs": [],
   "source": [
    "from numpy import *\n",
    "def sigmoid(x, derivative=False):\n",
    "    sigm = 1. / (1. + exp(-x))\n",
    "    if derivative:\n",
    "        return sigm * (1. - sigm)\n",
    "    return sigm\n",
    "#below may need to be changed\n",
    "def sigmoid_derivative(x):\n",
    "        return x * (1 - x)"
   ]
  },
  {
   "cell_type": "markdown",
   "metadata": {},
   "source": [
    "*random.rand(n,m)* generates a 2D array, with n rows and m columns, in which each number contained is random (0-1). Could also think of it as n sets of m elements.\n",
    "\n",
    "*random.rand(n,)* generates a 1D array, with n elements, in which each element is random (0-1)\n",
    "\n",
    "*.shape* tells me the dimensions of the array. [0] says rows. [1] says columns."
   ]
  },
  {
   "cell_type": "code",
   "execution_count": 93,
   "metadata": {},
   "outputs": [],
   "source": [
    "class NeuralNet:\n",
    "    def __init__(self,x,y):\n",
    "        self.input = x\n",
    "        self.weights1 = random.rand(self.input.shape[1],4)\n",
    "        self.weights2 = random.rand(4,1)\n",
    "        self.y = y\n",
    "        self.output = zeros(y.shape)\n",
    "        \n",
    "    def feedforward(self):\n",
    "        self.layer1 = sigmoid(dot(self.input, self.weights1))\n",
    "        self.output = sigmoid(dot(self.layer1, self.weights2))\n",
    "    def backprop(self):\n",
    "        d_weights2 = dot(self.layer1.T, (2*(self.y - self.output) * sigmoid_derivative(self.output)))\n",
    "        d_weights1 = dot(self.input.T,  (dot(2*(self.y - self.output) * sigmoid_derivative(self.output), self.weights2.T) * sigmoid_derivative(self.layer1)))\n",
    "\n",
    "        self.weights1 += d_weights1\n",
    "        self.weights2 += d_weights2"
   ]
  },
  {
   "cell_type": "markdown",
   "metadata": {},
   "source": [
    "I believe x in the NeuralNet class is the input (as defined) and y is the intended output. As the weights get better, the output will become closer to y. Dimensions of both must be 2D. the numbers of rows in each must be equal and the output should only have one column."
   ]
  },
  {
   "cell_type": "code",
   "execution_count": 173,
   "metadata": {},
   "outputs": [
    {
     "data": {
      "text/plain": [
       "array([[ 0.40603664],\n",
       "       [ 0.56587819],\n",
       "       [ 0.97229594]])"
      ]
     },
     "execution_count": 173,
     "metadata": {},
     "output_type": "execute_result"
    }
   ],
   "source": [
    "a=random.rand(3,4)\n",
    "b=random.rand(3,1)\n",
    "c=NeuralNet(a,b)\n",
    "c.y"
   ]
  }
 ],
 "metadata": {
  "kernelspec": {
   "display_name": "Python 3",
   "language": "python",
   "name": "python3"
  },
  "language_info": {
   "codemirror_mode": {
    "name": "ipython",
    "version": 3
   },
   "file_extension": ".py",
   "mimetype": "text/x-python",
   "name": "python",
   "nbconvert_exporter": "python",
   "pygments_lexer": "ipython3",
   "version": "3.5.2"
  }
 },
 "nbformat": 4,
 "nbformat_minor": 2
}
