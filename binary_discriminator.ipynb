{
  "nbformat": 4,
  "nbformat_minor": 0,
  "metadata": {
    "colab": {
      "name": "Binary_discriminator.ipynb",
      "version": "0.3.2",
      "provenance": [],
      "collapsed_sections": [],
      "include_colab_link": true
    },
    "kernelspec": {
      "name": "python3",
      "display_name": "Python 3"
    }
  },
  "cells": [
    {
      "cell_type": "markdown",
      "metadata": {
        "id": "view-in-github",
        "colab_type": "text"
      },
      "source": [
        "<a href=\"https://colab.research.google.com/github/RMhanovernorwichschools/neural_network_prac/blob/master/Binary_discriminator.ipynb\" target=\"_parent\"><img src=\"https://colab.research.google.com/assets/colab-badge.svg\" alt=\"Open In Colab\"/></a>"
      ]
    },
    {
      "metadata": {
        "id": "kY4R2BuxI-fG",
        "colab_type": "code",
        "colab": {
          "base_uri": "https://localhost:8080/",
          "height": 51
        },
        "outputId": "e4a4207d-902d-4dda-8f6c-178c9625efd9"
      },
      "cell_type": "code",
      "source": [
        "from __future__ import absolute_import, division, print_function\n",
        "\n",
        "import tensorflow as tf\n",
        "from tensorflow import keras\n",
        "\n",
        "import numpy as np\n",
        "imdb = keras.datasets.imdb\n",
        "\n",
        "(train_data, train_labels), (test_data, test_labels) = imdb.load_data(num_words=10000)\n",
        "#note that imported data comes from tensorflow for now. Will need to look into how to import own data."
      ],
      "execution_count": 1,
      "outputs": [
        {
          "output_type": "stream",
          "text": [
            "Downloading data from https://storage.googleapis.com/tensorflow/tf-keras-datasets/imdb.npz\n",
            "17465344/17464789 [==============================] - 0s 0us/step\n"
          ],
          "name": "stdout"
        }
      ]
    },
    {
      "metadata": {
        "id": "FfQql0N2Leb9",
        "colab_type": "code",
        "colab": {
          "base_uri": "https://localhost:8080/",
          "height": 34
        },
        "outputId": "55320ad4-e3a8-44c5-e4e4-edbd51c7ae14"
      },
      "cell_type": "code",
      "source": [
        "print(\"Training entries: {0}, labels: {1}\".format(len(train_data), len(train_labels)))"
      ],
      "execution_count": 2,
      "outputs": [
        {
          "output_type": "stream",
          "text": [
            "Training entries: 25000, labels: 25000\n"
          ],
          "name": "stdout"
        }
      ]
    },
    {
      "metadata": {
        "id": "xwIfatDdLmbO",
        "colab_type": "code",
        "colab": {
          "base_uri": "https://localhost:8080/",
          "height": 51
        },
        "outputId": "ce8e7afd-7768-4627-b982-3660456fc3df"
      },
      "cell_type": "code",
      "source": [
        "# A python dictionary mapping words to an integer index (should be usable in future)\n",
        "word_index = imdb.get_word_index()\n",
        "\n",
        "# The first indices are reserved\n",
        "word_index = {k:(v+3) for k,v in word_index.items()} \n",
        "word_index[\"<PAD>\"] = 0\n",
        "word_index[\"<START>\"] = 1\n",
        "word_index[\"<UNK>\"] = 2  # unknown\n",
        "word_index[\"<UNUSED>\"] = 3\n",
        "#the above add some integers corresponding to relevant outputs which aren't words\n",
        "\n",
        "#dictionary.items() gives a list version of the dictionary (which allows for reformatting into a different dictionary with same \"items\")\n",
        "reverse_word_index = dict([(value, key) for (key, value) in word_index.items()])\n",
        "#returns a dictionary from a list made from a dictionary\n",
        "\n",
        "def decode(text):\n",
        "    return ' '.join([reverse_word_index.get(i, '') for i in text])\n",
        "    #\"s.join(l)\" command adds items of l together with x as \"glue\" between them\n",
        "    #get for i in text returns the word corresponding to the integers or '' if there isn't a corresponding word"
      ],
      "execution_count": 3,
      "outputs": [
        {
          "output_type": "stream",
          "text": [
            "Downloading data from https://storage.googleapis.com/tensorflow/tf-keras-datasets/imdb_word_index.json\n",
            "1646592/1641221 [==============================] - 0s 0us/step\n"
          ],
          "name": "stdout"
        }
      ]
    },
    {
      "metadata": {
        "id": "AL7O04rNM4Ci",
        "colab_type": "code",
        "colab": {
          "base_uri": "https://localhost:8080/",
          "height": 54
        },
        "outputId": "210b13f2-2464-4b84-f8d8-d1e9e4206718"
      },
      "cell_type": "code",
      "source": [
        "#showing how \"decode\" works\n",
        "decode(train_data[30])"
      ],
      "execution_count": 4,
      "outputs": [
        {
          "output_type": "execute_result",
          "data": {
            "text/plain": [
              "\"<START> i caught this at a test screening all i can say is what the hell this movie plays out about as smoothly as mickey mouse reading the script for scarface it's bizarre beyond making the slightest bit of sense and even if you do leave your brain in the car the film is still so bizarre that it isn't even funny br br the plot involves crocodile hunter steve irwin trying to save a crocodile which contains a cia <UNK> the cia comes after irwin to get their <UNK> back irwin mistakes them for <UNK> and sets out to stop them br br that's about all the story there is the rest is over the top <UNK> of australian culture <UNK> see <UNK> and <UNK> and strangely choreographed action sequences at one point irwin <UNK> a <UNK> <UNK> and knife fights with a cia agent on top of it yes that's right steve irwin knife fights a guy on top of an <UNK> let that be your guide for this ridiculously bad film\""
            ]
          },
          "metadata": {
            "tags": []
          },
          "execution_count": 4
        }
      ]
    },
    {
      "metadata": {
        "id": "odhi5NGoQQgA",
        "colab_type": "text"
      },
      "cell_type": "markdown",
      "source": [
        "There is an issue in figuring out how to converts these integer-words into 0s and 1s. This is solved here with the following:\n",
        "\n",
        "- The arrays are padded to have the same length (currently some reviews longer than others)\n",
        "- Tensors will be in shape (max_length, num_reviews) and handled by an embedding layer"
      ]
    },
    {
      "metadata": {
        "id": "c-YJlfMuRHl1",
        "colab_type": "code",
        "colab": {}
      },
      "cell_type": "code",
      "source": [
        "train_data = keras.preprocessing.sequence.pad_sequences(train_data,\n",
        "                                                        value=word_index[\"<PAD>\"],\n",
        "                                                        padding='post',\n",
        "                                                        maxlen=2494)\n",
        "\n",
        "test_data = keras.preprocessing.sequence.pad_sequences(test_data,\n",
        "                                                       value=word_index[\"<PAD>\"],\n",
        "                                                       padding='post',\n",
        "                                                       maxlen=2494)"
      ],
      "execution_count": 0,
      "outputs": []
    },
    {
      "metadata": {
        "id": "gUX58BKaRrgk",
        "colab_type": "code",
        "colab": {
          "base_uri": "https://localhost:8080/",
          "height": 343
        },
        "outputId": "39c5d620-ad9f-468d-d410-250276d4c6e2"
      },
      "cell_type": "code",
      "source": [
        "# input shape is the vocabulary count used for the movie reviews (10,000 words)\n",
        "vocab_size = 10000\n",
        "\n",
        "model = keras.Sequential()\n",
        "model.add(keras.layers.Embedding(vocab_size, 16))   #considering that there are 10,000 (1st argument) possible words, create 16 (2nd argument) nodes\n",
        "model.add(keras.layers.GlobalAveragePooling1D())\n",
        "model.add(keras.layers.Dense(16, activation=tf.nn.relu))    #just a layer weighing all of last nodes\n",
        "model.add(keras.layers.Dense(1, activation=tf.nn.sigmoid))  #only one output, so only one node, and sigmoid so it's a value from 0 to 1\n",
        "\n",
        "model.summary()"
      ],
      "execution_count": 6,
      "outputs": [
        {
          "output_type": "stream",
          "text": [
            "WARNING:tensorflow:From /usr/local/lib/python3.6/dist-packages/tensorflow/python/ops/resource_variable_ops.py:435: colocate_with (from tensorflow.python.framework.ops) is deprecated and will be removed in a future version.\n",
            "Instructions for updating:\n",
            "Colocations handled automatically by placer.\n",
            "_________________________________________________________________\n",
            "Layer (type)                 Output Shape              Param #   \n",
            "=================================================================\n",
            "embedding (Embedding)        (None, None, 16)          160000    \n",
            "_________________________________________________________________\n",
            "global_average_pooling1d (Gl (None, 16)                0         \n",
            "_________________________________________________________________\n",
            "dense (Dense)                (None, 16)                272       \n",
            "_________________________________________________________________\n",
            "dense_1 (Dense)              (None, 1)                 17        \n",
            "=================================================================\n",
            "Total params: 160,289\n",
            "Trainable params: 160,289\n",
            "Non-trainable params: 0\n",
            "_________________________________________________________________\n"
          ],
          "name": "stdout"
        }
      ]
    },
    {
      "metadata": {
        "id": "0xBFonjdVt93",
        "colab_type": "text"
      },
      "cell_type": "markdown",
      "source": [
        "*Embedding* makes 16 (argument 2) nodes out of the input by weighing the presence/absence for each word which is possible (argument 1) for each. \n",
        "Imagine, for example, that \"super\" is \\*1 for passionate, \\*0.6 for good, \\*0 for bored, etc.\n",
        "\n",
        "*Global_Average_Pooling_1D*  adjusts for length by essentially averaging out values. The embedded nodes will be higher with more words, but, because we're trying to figure this out based on concentration of words, this effect needs to be cancelled out."
      ]
    },
    {
      "metadata": {
        "id": "kwqZe301XMLG",
        "colab_type": "code",
        "colab": {}
      },
      "cell_type": "code",
      "source": [
        "model.compile(optimizer='adam',\n",
        "              loss='binary_crossentropy',\n",
        "              metrics=['acc'])\n",
        "#'adam' is same as used in tensorflow_basics\n",
        "#'binary_crossentropy' is good for loss b/c it's just one output for *probability* (so from 0 to 1)\n",
        "#metric is same as that used in tensorflow_basics\n",
        "\n",
        "x_val = train_data[:10000]             #this takes the first 10,000 inputs (those before [10000])\n",
        "partial_x_train = train_data[10000:]   #this takes the inputs 10,000 and after\n",
        "\n",
        "#does the same for the labels (intended outputs)\n",
        "y_val = train_labels[:10000]\n",
        "partial_y_train = train_labels[10000:]"
      ],
      "execution_count": 0,
      "outputs": []
    },
    {
      "metadata": {
        "id": "RFf4UsfRYiSV",
        "colab_type": "code",
        "colab": {
          "base_uri": "https://localhost:8080/",
          "height": 1499
        },
        "outputId": "976a3fc6-92b1-4f55-c850-575dd1666786"
      },
      "cell_type": "code",
      "source": [
        "#by specifying \"history =\" we save the session so it can be reviewed\n",
        "history = model.fit(partial_x_train,\n",
        "                    partial_y_train,\n",
        "                    epochs=40,\n",
        "                    batch_size=512,\n",
        "                    validation_data=(x_val, y_val),\n",
        "                    verbose=1)\n",
        "\n",
        "#that was training for 40 epochs. Now we can see how it does against the test data.\n",
        "results = model.evaluate(test_data, test_labels)\n",
        "print(results)"
      ],
      "execution_count": 8,
      "outputs": [
        {
          "output_type": "stream",
          "text": [
            "Train on 15000 samples, validate on 10000 samples\n",
            "WARNING:tensorflow:From /usr/local/lib/python3.6/dist-packages/tensorflow/python/ops/math_ops.py:3066: to_int32 (from tensorflow.python.ops.math_ops) is deprecated and will be removed in a future version.\n",
            "Instructions for updating:\n",
            "Use tf.cast instead.\n",
            "Epoch 1/40\n",
            "15000/15000 [==============================] - 6s 367us/sample - loss: 0.6931 - acc: 0.5036 - val_loss: 0.6931 - val_acc: 0.4947\n",
            "Epoch 2/40\n",
            "15000/15000 [==============================] - 5s 332us/sample - loss: 0.6929 - acc: 0.5091 - val_loss: 0.6928 - val_acc: 0.4995\n",
            "Epoch 3/40\n",
            "15000/15000 [==============================] - 5s 331us/sample - loss: 0.6925 - acc: 0.5101 - val_loss: 0.6924 - val_acc: 0.5227\n",
            "Epoch 4/40\n",
            "15000/15000 [==============================] - 5s 332us/sample - loss: 0.6921 - acc: 0.5211 - val_loss: 0.6917 - val_acc: 0.6249\n",
            "Epoch 5/40\n",
            "15000/15000 [==============================] - 5s 331us/sample - loss: 0.6912 - acc: 0.5630 - val_loss: 0.6908 - val_acc: 0.5677\n",
            "Epoch 6/40\n",
            "15000/15000 [==============================] - 5s 330us/sample - loss: 0.6895 - acc: 0.6182 - val_loss: 0.6893 - val_acc: 0.5192\n",
            "Epoch 7/40\n",
            "15000/15000 [==============================] - 5s 331us/sample - loss: 0.6867 - acc: 0.5640 - val_loss: 0.6852 - val_acc: 0.6347\n",
            "Epoch 8/40\n",
            "15000/15000 [==============================] - 5s 332us/sample - loss: 0.6821 - acc: 0.6415 - val_loss: 0.6800 - val_acc: 0.6159\n",
            "Epoch 9/40\n",
            "15000/15000 [==============================] - 5s 332us/sample - loss: 0.6749 - acc: 0.6747 - val_loss: 0.6720 - val_acc: 0.6976\n",
            "Epoch 10/40\n",
            "15000/15000 [==============================] - 5s 333us/sample - loss: 0.6652 - acc: 0.6861 - val_loss: 0.6638 - val_acc: 0.6036\n",
            "Epoch 11/40\n",
            "15000/15000 [==============================] - 5s 331us/sample - loss: 0.6537 - acc: 0.6937 - val_loss: 0.6493 - val_acc: 0.7146\n",
            "Epoch 12/40\n",
            "15000/15000 [==============================] - 5s 332us/sample - loss: 0.6381 - acc: 0.7422 - val_loss: 0.6347 - val_acc: 0.7250\n",
            "Epoch 13/40\n",
            "15000/15000 [==============================] - 5s 331us/sample - loss: 0.6216 - acc: 0.7380 - val_loss: 0.6205 - val_acc: 0.7048\n",
            "Epoch 14/40\n",
            "15000/15000 [==============================] - 5s 332us/sample - loss: 0.6031 - acc: 0.7645 - val_loss: 0.6006 - val_acc: 0.7697\n",
            "Epoch 15/40\n",
            "15000/15000 [==============================] - 5s 332us/sample - loss: 0.5846 - acc: 0.7765 - val_loss: 0.5837 - val_acc: 0.7701\n",
            "Epoch 16/40\n",
            "15000/15000 [==============================] - 5s 333us/sample - loss: 0.5649 - acc: 0.7891 - val_loss: 0.5656 - val_acc: 0.7829\n",
            "Epoch 17/40\n",
            "15000/15000 [==============================] - 5s 331us/sample - loss: 0.5442 - acc: 0.8031 - val_loss: 0.5485 - val_acc: 0.7895\n",
            "Epoch 18/40\n",
            "15000/15000 [==============================] - 5s 332us/sample - loss: 0.5257 - acc: 0.8061 - val_loss: 0.5298 - val_acc: 0.8038\n",
            "Epoch 19/40\n",
            "15000/15000 [==============================] - 5s 332us/sample - loss: 0.5057 - acc: 0.8234 - val_loss: 0.5122 - val_acc: 0.8112\n",
            "Epoch 20/40\n",
            "15000/15000 [==============================] - 5s 332us/sample - loss: 0.4874 - acc: 0.8303 - val_loss: 0.4990 - val_acc: 0.8000\n",
            "Epoch 21/40\n",
            "15000/15000 [==============================] - 5s 334us/sample - loss: 0.4701 - acc: 0.8367 - val_loss: 0.4800 - val_acc: 0.8275\n",
            "Epoch 22/40\n",
            "15000/15000 [==============================] - 5s 339us/sample - loss: 0.4529 - acc: 0.8451 - val_loss: 0.4668 - val_acc: 0.8245\n",
            "Epoch 23/40\n",
            "15000/15000 [==============================] - 5s 337us/sample - loss: 0.4373 - acc: 0.8472 - val_loss: 0.4515 - val_acc: 0.8350\n",
            "Epoch 24/40\n",
            "15000/15000 [==============================] - 5s 334us/sample - loss: 0.4222 - acc: 0.8565 - val_loss: 0.4396 - val_acc: 0.8390\n",
            "Epoch 25/40\n",
            "15000/15000 [==============================] - 5s 333us/sample - loss: 0.4077 - acc: 0.8641 - val_loss: 0.4283 - val_acc: 0.8404\n",
            "Epoch 26/40\n",
            "15000/15000 [==============================] - 5s 332us/sample - loss: 0.3938 - acc: 0.8683 - val_loss: 0.4149 - val_acc: 0.8492\n",
            "Epoch 27/40\n",
            "15000/15000 [==============================] - 5s 331us/sample - loss: 0.3837 - acc: 0.8697 - val_loss: 0.4043 - val_acc: 0.8519\n",
            "Epoch 28/40\n",
            "15000/15000 [==============================] - 5s 330us/sample - loss: 0.3695 - acc: 0.8786 - val_loss: 0.3951 - val_acc: 0.8557\n",
            "Epoch 29/40\n",
            "15000/15000 [==============================] - 5s 339us/sample - loss: 0.3594 - acc: 0.8807 - val_loss: 0.3862 - val_acc: 0.8566\n",
            "Epoch 30/40\n",
            "15000/15000 [==============================] - 5s 341us/sample - loss: 0.3533 - acc: 0.8787 - val_loss: 0.3786 - val_acc: 0.8601\n",
            "Epoch 31/40\n",
            "15000/15000 [==============================] - 5s 333us/sample - loss: 0.3416 - acc: 0.8856 - val_loss: 0.3735 - val_acc: 0.8596\n",
            "Epoch 32/40\n",
            "15000/15000 [==============================] - 5s 332us/sample - loss: 0.3312 - acc: 0.8905 - val_loss: 0.3647 - val_acc: 0.8629\n",
            "Epoch 33/40\n",
            "15000/15000 [==============================] - 5s 332us/sample - loss: 0.3228 - acc: 0.8921 - val_loss: 0.3582 - val_acc: 0.8661\n",
            "Epoch 34/40\n",
            "15000/15000 [==============================] - 5s 332us/sample - loss: 0.3149 - acc: 0.8957 - val_loss: 0.3533 - val_acc: 0.8661\n",
            "Epoch 35/40\n",
            "15000/15000 [==============================] - 5s 333us/sample - loss: 0.3082 - acc: 0.8976 - val_loss: 0.3477 - val_acc: 0.8690\n",
            "Epoch 36/40\n",
            "15000/15000 [==============================] - 5s 331us/sample - loss: 0.3009 - acc: 0.8992 - val_loss: 0.3424 - val_acc: 0.8715\n",
            "Epoch 37/40\n",
            "15000/15000 [==============================] - 5s 331us/sample - loss: 0.2942 - acc: 0.9008 - val_loss: 0.3383 - val_acc: 0.8718\n",
            "Epoch 38/40\n",
            "15000/15000 [==============================] - 5s 332us/sample - loss: 0.2889 - acc: 0.9011 - val_loss: 0.3338 - val_acc: 0.8739\n",
            "Epoch 39/40\n",
            "15000/15000 [==============================] - 5s 332us/sample - loss: 0.2817 - acc: 0.9065 - val_loss: 0.3302 - val_acc: 0.8739\n",
            "Epoch 40/40\n",
            "15000/15000 [==============================] - 5s 333us/sample - loss: 0.2763 - acc: 0.9072 - val_loss: 0.3280 - val_acc: 0.8740\n",
            "25000/25000 [==============================] - 2s 87us/sample - loss: 0.3461 - acc: 0.8642\n",
            "[0.3460683382129669, 0.86424]\n"
          ],
          "name": "stdout"
        }
      ]
    },
    {
      "metadata": {
        "id": "xCCnGXLMZGju",
        "colab_type": "code",
        "colab": {
          "base_uri": "https://localhost:8080/",
          "height": 295
        },
        "outputId": "c23238d7-5abf-4537-d5af-dc25b042ade5"
      },
      "cell_type": "code",
      "source": [
        "#below shows some of loss over time using history, to help give a sense of what happened (and how to improve)\n",
        "import matplotlib.pyplot as plt\n",
        "\n",
        "history_dict = history.history\n",
        "\n",
        "acc = history_dict['acc']\n",
        "val_acc = history_dict['val_acc']\n",
        "loss = history_dict['loss']\n",
        "val_loss = history_dict['val_loss']\n",
        "\n",
        "epochs = range(1, len(acc) + 1)\n",
        "\n",
        "# \"bo\" is for \"blue dot\"\n",
        "plt.plot(epochs, loss, 'bo', label='Training loss')\n",
        "# b is for \"solid blue line\"\n",
        "plt.plot(epochs, val_loss, 'b', label='Validation loss')\n",
        "plt.title('Training and validation loss')\n",
        "plt.xlabel('Epochs')\n",
        "plt.ylabel('Loss')\n",
        "plt.legend()\n",
        "\n",
        "plt.show()"
      ],
      "execution_count": 9,
      "outputs": [
        {
          "output_type": "display_data",
          "data": {
            "image/png": "[encoded data removed]",
            "text/plain": [
              "<Figure size 432x288 with 1 Axes>"
            ]
          },
          "metadata": {
            "tags": []
          }
        }
      ]
    },
    {
      "metadata": {
        "id": "0Y0ZMhZkafeU",
        "colab_type": "code",
        "colab": {
          "base_uri": "https://localhost:8080/",
          "height": 34
        },
        "outputId": "c98ba3a2-27a3-4e4a-e303-eeecea7f7c96"
      },
      "cell_type": "code",
      "source": [
        "#shows \"keys\" (areas/types of data) labels from history\n",
        "history_dict.keys()"
      ],
      "execution_count": 10,
      "outputs": [
        {
          "output_type": "execute_result",
          "data": {
            "text/plain": [
              "dict_keys(['loss', 'acc', 'val_loss', 'val_acc'])"
            ]
          },
          "metadata": {
            "tags": []
          },
          "execution_count": 10
        }
      ]
    },
    {
      "metadata": {
        "id": "2apdLeKegbqY",
        "colab_type": "code",
        "colab": {
          "base_uri": "https://localhost:8080/",
          "height": 295
        },
        "outputId": "d3c5c5f6-714e-46e8-ad37-edb01ef69d99"
      },
      "cell_type": "code",
      "source": [
        "plt.plot(epochs, acc, 'bo', label='Training acc')\n",
        "plt.plot(epochs, val_acc, 'b', label='Validation acc')\n",
        "plt.title('Training and validation accuracy')\n",
        "plt.xlabel('Epochs')\n",
        "plt.ylabel('Accuracy')\n",
        "plt.legend()\n",
        "\n",
        "plt.show()"
      ],
      "execution_count": 11,
      "outputs": [
        {
          "output_type": "display_data",
          "data": {
            "image/png": "[encoded data removed]",
            "text/plain": [
              "<Figure size 432x288 with 1 Axes>"
            ]
          },
          "metadata": {
            "tags": []
          }
        }
      ]
    },
    {
      "metadata": {
        "id": "JnfS_02SggsO",
        "colab_type": "code",
        "colab": {}
      },
      "cell_type": "code",
      "source": [
        "#@title MIT License\n",
        "#\n",
        "# Copyright (c) 2017 François Chollet\n",
        "#\n",
        "# Permission is hereby granted, free of charge, to any person obtaining a\n",
        "# copy of this software and associated documentation files (the \"Software\"),\n",
        "# to deal in the Software without restriction, including without limitation\n",
        "# the rights to use, copy, modify, merge, publish, distribute, sublicense,\n",
        "# and/or sell copies of the Software, and to permit persons to whom the\n",
        "# Software is furnished to do so, subject to the following conditions:\n",
        "#\n",
        "# The above copyright notice and this permission notice shall be included in\n",
        "# all copies or substantial portions of the Software.\n",
        "#\n",
        "# THE SOFTWARE IS PROVIDED \"AS IS\", WITHOUT WARRANTY OF ANY KIND, EXPRESS OR\n",
        "# IMPLIED, INCLUDING BUT NOT LIMITED TO THE WARRANTIES OF MERCHANTABILITY,\n",
        "# FITNESS FOR A PARTICULAR PURPOSE AND NONINFRINGEMENT. IN NO EVENT SHALL\n",
        "# THE AUTHORS OR COPYRIGHT HOLDERS BE LIABLE FOR ANY CLAIM, DAMAGES OR OTHER\n",
        "# LIABILITY, WHETHER IN AN ACTION OF CONTRACT, TORT OR OTHERWISE, ARISING\n",
        "# FROM, OUT OF OR IN CONNECTION WITH THE SOFTWARE OR THE USE OR OTHER\n",
        "# DEALINGS IN THE SOFTWARE."
      ],
      "execution_count": 0,
      "outputs": []
    },
    {
      "metadata": {
        "id": "0Oroh34Mg86L",
        "colab_type": "code",
        "colab": {}
      },
      "cell_type": "code",
      "source": [
        "def encode(text):\n",
        "  a=text.split()\n",
        "  return [1]+[word_index.get(i, 2) for i in a]"
      ],
      "execution_count": 0,
      "outputs": []
    },
    {
      "metadata": {
        "id": "2AgYzxNo8W2i",
        "colab_type": "code",
        "colab": {
          "base_uri": "https://localhost:8080/",
          "height": 34
        },
        "outputId": "6fa46e18-ca92-4378-e620-6138335da769"
      },
      "cell_type": "code",
      "source": [
        "#negative is 0 and positive is 1\n",
        "example = \"i though the character development was intriguing and some of the plot twists had me on the edge of my seat the villain was horrifying and overall the suspense really got to you\"\n",
        "inp = [encode(example)]\n",
        "inp = keras.preprocessing.sequence.pad_sequences(inp,\n",
        "                                                 value=word_index[\"<PAD>\"],\n",
        "                                                 padding='post',\n",
        "                                                 maxlen=2494)\n",
        "ans = model.predict(inp)\n",
        "print(ans[0])"
      ],
      "execution_count": 24,
      "outputs": [
        {
          "output_type": "stream",
          "text": [
            "[0.5810319]\n"
          ],
          "name": "stdout"
        }
      ]
    }
  ]
}
