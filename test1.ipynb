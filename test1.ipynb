{
  "nbformat": 4,
  "nbformat_minor": 0,
  "metadata": {
    "colab": {
      "name": "test1.ipynb",
      "version": "0.3.2",
      "provenance": [],
      "private_outputs": true,
      "collapsed_sections": [],
      "toc_visible": true,
      "include_colab_link": true
    },
    "kernelspec": {
      "display_name": "Python 3",
      "name": "python3"
    }
  },
  "cells": [
    {
      "cell_type": "markdown",
      "metadata": {
        "id": "view-in-github",
        "colab_type": "text"
      },
      "source": [
        "<a href=\"https://colab.research.google.com/github/RMhanovernorwichschools/neural_network_prac/blob/master/test1.ipynb\" target=\"_parent\"><img src=\"https://colab.research.google.com/assets/colab-badge.svg\" alt=\"Open In Colab\"/></a>"
      ]
    },
    {
      "metadata": {
        "id": "8JsMh7M4MJf0",
        "colab_type": "text"
      },
      "cell_type": "markdown",
      "source": [
        "**Below works on own \"tutorial\" instruction from website**"
      ]
    },
    {
      "metadata": {
        "id": "KmfM1vO6MXKK",
        "colab_type": "code",
        "colab": {}
      },
      "cell_type": "code",
      "source": [
        "import tensorflow as tf\n",
        "\n",
        "gra=tf.Graph()\n",
        "with gra.as_default():\n",
        "  # creates nodes in a graph\n",
        "  # \"construction phase\"\n",
        "  x1 = tf.constant(5)\n",
        "  x2 = tf.constant(6)\n",
        "\n",
        "  result = x1 * x2\n",
        "\n",
        "print(result)\n",
        "\n",
        "# defines our session and launches graph\n",
        "sess = tf.compat.v1.Session(graph=gra)\n",
        "# runs result\n",
        "sess.run(result)\n",
        "\n",
        "#then type sess.close() to end. I don't here b/c then the \"30\" wouldn't be visible"
      ],
      "execution_count": 0,
      "outputs": []
    },
    {
      "metadata": {
        "id": "9UPeV0rmQn9I",
        "colab_type": "code",
        "colab": {}
      },
      "cell_type": "code",
      "source": [
        "#also valid\n",
        "\n",
        "with tf.compat.v1.Session(graph=gra) as sess:\n",
        "    output = sess.run(result)\n",
        "    print(output)\n",
        "    \n",
        "#now the whole thing has run, and the session is closed"
      ],
      "execution_count": 0,
      "outputs": []
    },
    {
      "metadata": {
        "id": "K5vrfrADZLu2",
        "colab_type": "text"
      },
      "cell_type": "markdown",
      "source": [
        "Now I'll move on from the basics of tensowflow to a real neural network. This one is a discriminator for 28x28 pixel number images. \n",
        "  \n",
        "This should cover weights, layers, feedforward, backprop, loss calculation, and training.  "
      ]
    },
    {
      "metadata": {
        "id": "uocwvV4sZk9m",
        "colab_type": "code",
        "colab": {}
      },
      "cell_type": "code",
      "source": [
        "import tensorflow as tf\n",
        "from tensorflow import keras\n",
        "#upload tensorflow and keras (which will generally be useful)\n",
        "\n",
        "\n",
        "fashion_mnist = keras.datasets.fashion_mnist\n",
        "(train_images, train_labels), (test_images, test_labels) = fashion_mnist.load_data()\n",
        "\n",
        "import numpy as np\n",
        "import matplotlib.pyplot as plt\n",
        "#will be using these, too.\n",
        "\n",
        "#the labels correspond to clothing types, as dictated by the below list.\n",
        "class_names = ['T-shirt/top', 'Trouser', 'Pullover', 'Dress', 'Coat', \n",
        "               'Sandal', 'Shirt', 'Sneaker', 'Bag', 'Ankle boot']"
      ],
      "execution_count": 0,
      "outputs": []
    },
    {
      "metadata": {
        "id": "BLdIvnTvfPDk",
        "colab_type": "code",
        "colab": {}
      },
      "cell_type": "code",
      "source": [
        "plt.imshow(train_images[0]) #shows images, such as those used here (arrays for RGB)\n",
        "plt.colorbar()              #displays the bar on the right (showing that it goes from 0 to 255)\n",
        "plt.show()                  #ensures plot is displayed"
      ],
      "execution_count": 0,
      "outputs": []
    },
    {
      "metadata": {
        "id": "VxOpal0XggD7",
        "colab_type": "code",
        "colab": {}
      },
      "cell_type": "code",
      "source": [
        "#Because the network handles input from 0 to 1 and these colors range from 0 to 255, we'll need to divide them by 255\n",
        "train_images = train_images / 255.0\n",
        "test_images = test_images / 255.0"
      ],
      "execution_count": 0,
      "outputs": []
    },
    {
      "metadata": {
        "id": "w0SVWPVTgvzh",
        "colab_type": "code",
        "colab": {}
      },
      "cell_type": "code",
      "source": [
        "plt.figure(figsize=(11,9)) #specifies size in x, y\n",
        "for i in range(25): #range number specifies how many images are displayed\n",
        "    plt.subplot(5,5,i+1) #specifies number of \"graphs\" in graph, in format (rows, columns, which_one)\n",
        "    \n",
        "    #removes the number markings on the axes (unnecessary and unwanted here)\n",
        "    plt.xticks([])\n",
        "    plt.yticks([])\n",
        "    \n",
        "    plt.imshow(train_images[i], cmap=plt.cm.binary) #selects the i'th image from the 60thou in train_images\n",
        "    plt.xlabel(class_names[train_labels[i]])        #labels according to corres train_label and class name\n",
        "                                                    #title, ylabel, or xlabel all work here. it's a matter of visual preference\n",
        "plt.show()"
      ],
      "execution_count": 0,
      "outputs": []
    },
    {
      "metadata": {
        "id": "K4-ZjwLCiwGZ",
        "colab_type": "code",
        "colab": {}
      },
      "cell_type": "code",
      "source": [
        "#the model is the network, so specifications on it are network specifications\n",
        "model = keras.Sequential([\n",
        "    keras.layers.Flatten(input_shape=(28, 28)),      #this one just reformats the data into a chain instead of grid\n",
        "    keras.layers.Dense(128, activation=tf.nn.relu),  #dense means it's considering all prior nodes\n",
        "    keras.layers.Dense(10, activation=tf.nn.softmax)])\n",
        "    \n",
        "#first number of \"keras.layers.Dense\" specifies node number. Last layer should be output, so only as many nodes as there are potential outputs.\n",
        "#more needs to be specified (all I have now is layers). This is done below.\n",
        "\n",
        "model.compile(optimizer='adam', \n",
        "              loss='sparse_categorical_crossentropy',\n",
        "              metrics=['accuracy'])\n",
        "#I can mess around with varying optimizers, loss functions, and metrics later. These seem to all be provided with tensorflow."
      ],
      "execution_count": 0,
      "outputs": []
    },
    {
      "metadata": {
        "id": "VJpgovCEjisd",
        "colab_type": "code",
        "colab": {}
      },
      "cell_type": "code",
      "source": [
        "#Now that it's created, it can be trained, which is going on below.\n",
        "model.fit(train_images, train_labels, epochs=5)\n",
        "\n",
        "#this is in format of \"model.fit([inputs], [intended outputs], [\"rounds\" of going through all inputs])\n",
        "#note number of inputs should match number of intended outputs"
      ],
      "execution_count": 0,
      "outputs": []
    },
    {
      "metadata": {
        "id": "2tn_ZCnflNFE",
        "colab_type": "code",
        "colab": {}
      },
      "cell_type": "code",
      "source": [
        "test_loss, test_acc = model.evaluate(test_images, test_labels)\n",
        "\n",
        "#model.evaluate essentially does model.fit for 1 epoch, but without changing the weights\n",
        "print('Test accuracy:'+str(test_acc))"
      ],
      "execution_count": 0,
      "outputs": []
    },
    {
      "metadata": {
        "id": "0AWmRX7BmCy_",
        "colab_type": "code",
        "colab": {}
      },
      "cell_type": "code",
      "source": [
        "def plot_image(predictions_array, true_label, img):\n",
        "  #i is the number item. predictions_array are the answers to model.predict for an input set, true_label\n",
        "  #specifies the name corresponding to the numerical answers (0-9) and img is the corresponding input list\n",
        "  plt.xticks([])\n",
        "  plt.yticks([])\n",
        "  \n",
        "  plt.imshow(img, cmap=plt.cm.binary)\n",
        "\n",
        "  predicted_label = np.argmax(predictions_array) #this takes the most likely answer (for discriminators)\n",
        "  if predicted_label == true_label:  #chooses color based on right/wrong\n",
        "    color = 'blue'\n",
        "  else:\n",
        "    color = 'red'\n",
        "  \n",
        "  plt.xlabel(\"{0} {1}% ({2})\".format(class_names[predicted_label],      #this is predicted label\n",
        "                                round(100*np.max(predictions_array),1),  #this is percent \"sureness\" I think.\n",
        "                                class_names[true_label]),            #this is the actual label\n",
        "                                color=color)                       #this colors the text\n",
        "\n",
        "def plot_value_array(predictions_array, true_label):\n",
        "  plt.xticks([])\n",
        "  plt.yticks([])\n",
        "  thisplot = plt.bar(range(10), predictions_array) #makes a bar \n",
        "  #graph. range must be number of options. shows calculated probability of all possible predictions\n",
        "  \n",
        "  plt.ylim([0, 1])  #sets height of graph\n",
        "  plt.xticks(range(10), class_names, rotation=75)\n",
        "  predicted_label = np.argmax(predictions_array)\n",
        " \n",
        "  thisplot[predicted_label].set_color('red')\n",
        "  thisplot[true_label].set_color('blue')\n",
        "  #these two make it such that the bar showing the likeliest answer is blue if correct and red if wrong"
      ],
      "execution_count": 0,
      "outputs": []
    },
    {
      "metadata": {
        "id": "WR4JCguCm-G4",
        "colab_type": "code",
        "colab": {}
      },
      "cell_type": "code",
      "source": [
        "predictions = model.predict(test_images)\n",
        "i = 0\n",
        "prediction=predictions[i]\n",
        "test_label=test_labels[i]\n",
        "test_image=test_images[i]\n",
        "\n",
        "plt.figure(figsize=(6,3))\n",
        "plt.subplot(1,2,1)\n",
        "plot_image(prediction, test_label, test_image)\n",
        "plt.subplot(1,2,2)\n",
        "plot_value_array(prediction, test_label)\n",
        "plt.show()"
      ],
      "execution_count": 0,
      "outputs": []
    },
    {
      "metadata": {
        "id": "-1NzlNTnsawP",
        "colab_type": "code",
        "colab": {}
      },
      "cell_type": "code",
      "source": [
        "print(p_a)"
      ],
      "execution_count": 0,
      "outputs": []
    },
    {
      "metadata": {
        "id": "S65DUB0enTpv",
        "colab_type": "code",
        "colab": {}
      },
      "cell_type": "code",
      "source": [
        "#checking another\n",
        "i = 117\n",
        "\n",
        "plt.figure(figsize=(6,3))\n",
        "plt.subplot(1,2,1)\n",
        "plot_image(i, predictions, test_labels, test_images)\n",
        "plt.subplot(1,2,2)\n",
        "plot_value_array(i, predictions,  test_labels)\n",
        "plt.show()"
      ],
      "execution_count": 0,
      "outputs": []
    },
    {
      "metadata": {
        "id": "pNlHVBjOpzIk",
        "colab_type": "text"
      },
      "cell_type": "markdown",
      "source": [
        "If you make a list (even one containing one item) you can do the same as you did above with \"model.predict\". \n",
        "\n",
        "This way, you can make a list containing any legitimate element (in this case, 28x28 image) and see what your program  outputs for it."
      ]
    },
    {
      "metadata": {
        "id": "vbRynGlAqGzo",
        "colab_type": "code",
        "colab": {}
      },
      "cell_type": "code",
      "source": [
        "img = (np.expand_dims(test_images[0],0))\n",
        "predictions_single = model.predict(img)\n",
        "plot_value_array(0, predictions_single, test_labels)\n",
        "_ = plt.xticks(range(10), class_names, rotation=45)"
      ],
      "execution_count": 0,
      "outputs": []
    },
    {
      "metadata": {
        "id": "Dk3mS1f3qqkK",
        "colab_type": "code",
        "colab": {}
      },
      "cell_type": "code",
      "source": [
        ""
      ],
      "execution_count": 0,
      "outputs": []
    }
  ]
}